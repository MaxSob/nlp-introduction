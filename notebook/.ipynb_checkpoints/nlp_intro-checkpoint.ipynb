{
 "cells": [
  {
   "cell_type": "markdown",
   "metadata": {},
   "source": [
    "# Natural Language Processing"
   ]
  },
  {
   "cell_type": "markdown",
   "metadata": {},
   "source": [
    "Natural Language Processing (NLP) is a joint area including linguistics, computer science and dat aprocessing to process and understand speech. It has a noumeros set of fields related to the area, involving a variety of disciplines. An important part of NLP is opinion mining"
   ]
  },
  {
   "cell_type": "markdown",
   "metadata": {},
   "source": [
    "## Library import"
   ]
  },
  {
   "cell_type": "code",
   "execution_count": 1,
   "metadata": {},
   "outputs": [],
   "source": [
    "import nltk\n",
    "import spacy\n",
    "import sklearn\n",
    "import numpy"
   ]
  },
  {
   "cell_type": "code",
   "execution_count": 2,
   "metadata": {},
   "outputs": [],
   "source": [
    "phrase = \"This is awesome guys :)\""
   ]
  },
  {
   "cell_type": "markdown",
   "metadata": {},
   "source": [
    "## Word tokenizing"
   ]
  },
  {
   "cell_type": "markdown",
   "metadata": {},
   "source": [
    "Original Article: In computer science, lexical analysis, lexing or tokenization is the process of converting a sequence of characters (such as in a computer program or web page) into a sequence of tokens (strings with an assigned and thus identified meaning). A program that performs lexical analysis may be termed a lexer, tokenizer, or scanner, though scanner is also a term for the first stage of a lexer. A lexer is generally combined with a parser, which together analyze the syntax of programming languages, web pages, and so forth.\n"
   ]
  },
  {
   "cell_type": "code",
   "execution_count": 3,
   "metadata": {},
   "outputs": [
    {
     "name": "stdout",
     "output_type": "stream",
     "text": [
      "This\n",
      "is\n",
      "awesome\n",
      "guys\n",
      ":)\n"
     ]
    }
   ],
   "source": [
    "tokenizer = nltk.tokenize.TweetTokenizer()\n",
    "for t in tokenizer.tokenize(phrase):\n",
    "  print(t)"
   ]
  },
  {
   "cell_type": "markdown",
   "metadata": {},
   "source": [
    "## Statistical approaches"
   ]
  },
  {
   "cell_type": "markdown",
   "metadata": {},
   "source": [
    "Statistical approaches often use statical information about the data, to make correlations involving words that appear togeter in some text copora. Old text classification approaches use the distribution of the words in order to extract relationshps between terms to get relevant features in order to make classification"
   ]
  },
  {
   "cell_type": "markdown",
   "metadata": {},
   "source": [
    "Let's download the dataset"
   ]
  },
  {
   "cell_type": "code",
   "execution_count": 4,
   "metadata": {},
   "outputs": [
    {
     "data": {
      "text/plain": [
       "['nlp_intro.ipynb', '.ipynb_checkpoints']"
      ]
     },
     "execution_count": 4,
     "metadata": {},
     "output_type": "execute_result"
    }
   ],
   "source": [
    "import os\n",
    "import pandas as pd\n",
    "os.listdir()"
   ]
  },
  {
   "cell_type": "code",
   "execution_count": 7,
   "metadata": {},
   "outputs": [
    {
     "data": {
      "text/html": [
       "<div>\n",
       "<style scoped>\n",
       "    .dataframe tbody tr th:only-of-type {\n",
       "        vertical-align: middle;\n",
       "    }\n",
       "\n",
       "    .dataframe tbody tr th {\n",
       "        vertical-align: top;\n",
       "    }\n",
       "\n",
       "    .dataframe thead th {\n",
       "        text-align: right;\n",
       "    }\n",
       "</style>\n",
       "<table border=\"1\" class=\"dataframe\">\n",
       "  <thead>\n",
       "    <tr style=\"text-align: right;\">\n",
       "      <th></th>\n",
       "      <th>senti</th>\n",
       "    </tr>\n",
       "  </thead>\n",
       "  <tbody>\n",
       "    <tr>\n",
       "      <th>count</th>\n",
       "      <td>298.000000</td>\n",
       "    </tr>\n",
       "    <tr>\n",
       "      <th>mean</th>\n",
       "      <td>2.006711</td>\n",
       "    </tr>\n",
       "    <tr>\n",
       "      <th>std</th>\n",
       "      <td>1.748483</td>\n",
       "    </tr>\n",
       "    <tr>\n",
       "      <th>min</th>\n",
       "      <td>0.000000</td>\n",
       "    </tr>\n",
       "    <tr>\n",
       "      <th>25%</th>\n",
       "      <td>0.000000</td>\n",
       "    </tr>\n",
       "    <tr>\n",
       "      <th>50%</th>\n",
       "      <td>2.000000</td>\n",
       "    </tr>\n",
       "    <tr>\n",
       "      <th>75%</th>\n",
       "      <td>4.000000</td>\n",
       "    </tr>\n",
       "    <tr>\n",
       "      <th>max</th>\n",
       "      <td>4.000000</td>\n",
       "    </tr>\n",
       "  </tbody>\n",
       "</table>\n",
       "</div>"
      ],
      "text/plain": [
       "            senti\n",
       "count  298.000000\n",
       "mean     2.006711\n",
       "std      1.748483\n",
       "min      0.000000\n",
       "25%      0.000000\n",
       "50%      2.000000\n",
       "75%      4.000000\n",
       "max      4.000000"
      ]
     },
     "execution_count": 7,
     "metadata": {},
     "output_type": "execute_result"
    }
   ],
   "source": [
    "dir_data = \"../data/\"\n",
    "df = pd.read_csv(dir_data + 'finalizedtest.csv')\n",
    "df.describe()"
   ]
  },
  {
   "cell_type": "markdown",
   "metadata": {},
   "source": [
    "Let's explore the classes"
   ]
  },
  {
   "cell_type": "code",
   "execution_count": 8,
   "metadata": {},
   "outputs": [
    {
     "data": {
      "text/html": [
       "<div>\n",
       "<style scoped>\n",
       "    .dataframe tbody tr th:only-of-type {\n",
       "        vertical-align: middle;\n",
       "    }\n",
       "\n",
       "    .dataframe tbody tr th {\n",
       "        vertical-align: top;\n",
       "    }\n",
       "\n",
       "    .dataframe thead th {\n",
       "        text-align: right;\n",
       "    }\n",
       "</style>\n",
       "<table border=\"1\" class=\"dataframe\">\n",
       "  <thead>\n",
       "    <tr style=\"text-align: right;\">\n",
       "      <th></th>\n",
       "      <th>tweet</th>\n",
       "      <th>senti</th>\n",
       "    </tr>\n",
       "  </thead>\n",
       "  <tbody>\n",
       "    <tr>\n",
       "      <th>0</th>\n",
       "      <td>@united Oh, we are sure it's not planned, but ...</td>\n",
       "      <td>0</td>\n",
       "    </tr>\n",
       "    <tr>\n",
       "      <th>1</th>\n",
       "      <td>History exam studying ugh</td>\n",
       "      <td>0</td>\n",
       "    </tr>\n",
       "    <tr>\n",
       "      <th>2</th>\n",
       "      <td>@unnitallman yeah looks like that only! &amp;quot;...</td>\n",
       "      <td>0</td>\n",
       "    </tr>\n",
       "    <tr>\n",
       "      <th>3</th>\n",
       "      <td>Loves twitter</td>\n",
       "      <td>4</td>\n",
       "    </tr>\n",
       "    <tr>\n",
       "      <th>4</th>\n",
       "      <td>@Mbjthegreat i really dont want AT&amp;amp;T phone...</td>\n",
       "      <td>0</td>\n",
       "    </tr>\n",
       "  </tbody>\n",
       "</table>\n",
       "</div>"
      ],
      "text/plain": [
       "                                               tweet  senti\n",
       "0  @united Oh, we are sure it's not planned, but ...      0\n",
       "1                          History exam studying ugh      0\n",
       "2  @unnitallman yeah looks like that only! &quot;...      0\n",
       "3                                      Loves twitter      4\n",
       "4  @Mbjthegreat i really dont want AT&amp;T phone...      0"
      ]
     },
     "execution_count": 8,
     "metadata": {},
     "output_type": "execute_result"
    }
   ],
   "source": [
    "df.head()"
   ]
  },
  {
   "cell_type": "code",
   "execution_count": 9,
   "metadata": {},
   "outputs": [
    {
     "data": {
      "text/plain": [
       "298"
      ]
     },
     "execution_count": 9,
     "metadata": {},
     "output_type": "execute_result"
    }
   ],
   "source": [
    "len(df)"
   ]
  },
  {
   "cell_type": "markdown",
   "metadata": {},
   "source": [
    "Negative tweets"
   ]
  },
  {
   "cell_type": "code",
   "execution_count": 10,
   "metadata": {},
   "outputs": [
    {
     "data": {
      "text/plain": [
       "113"
      ]
     },
     "execution_count": 10,
     "metadata": {},
     "output_type": "execute_result"
    }
   ],
   "source": [
    "nt = df[df['senti'] == 0]\n",
    "len(nt)"
   ]
  },
  {
   "cell_type": "markdown",
   "metadata": {},
   "source": [
    "Neutral tweets"
   ]
  },
  {
   "cell_type": "code",
   "execution_count": 11,
   "metadata": {},
   "outputs": [
    {
     "data": {
      "text/plain": [
       "71"
      ]
     },
     "execution_count": 11,
     "metadata": {},
     "output_type": "execute_result"
    }
   ],
   "source": [
    "neutralt = df[df['senti'] == 2]\n",
    "len(neutralt)"
   ]
  },
  {
   "cell_type": "markdown",
   "metadata": {},
   "source": [
    "Positive tweets"
   ]
  },
  {
   "cell_type": "code",
   "execution_count": 12,
   "metadata": {},
   "outputs": [
    {
     "data": {
      "text/plain": [
       "114"
      ]
     },
     "execution_count": 12,
     "metadata": {},
     "output_type": "execute_result"
    }
   ],
   "source": [
    "pt = df[df['senti'] == 4]\n",
    "len(pt)"
   ]
  },
  {
   "cell_type": "markdown",
   "metadata": {},
   "source": [
    "How can we tokenize the tweets?, we need to separate the words in the tweet stream in order to know what's going on\n",
    "## Exercise\n",
    "Make a function to clean a string and to adapt the case of the words to lowercase, and to remove special characters. The function **cleanString** must recieve a string of the list of characters to eliminate and the string to clean, and shall return the lowercase clean string. \n",
    "\n",
    "__Hint:__ you can use trim, split, and replace string functions\n"
   ]
  },
  {
   "cell_type": "code",
   "execution_count": 13,
   "metadata": {},
   "outputs": [
    {
     "name": "stdout",
     "output_type": "stream",
     "text": [
      "Failed at la gata '' maulla @ en la noche\n"
     ]
    },
    {
     "data": {
      "text/plain": [
       "False"
      ]
     },
     "execution_count": 13,
     "metadata": {},
     "output_type": "execute_result"
    }
   ],
   "source": [
    "def cleanString(special_chars, string):\n",
    "    clean_string = string.lower()\n",
    "    #Your code here\n",
    "    return clean_string\n",
    "    \n",
    "\n",
    "def test():\n",
    "    special_chars = \",.@?!¬-\\''=()\"\n",
    "    tests = [\n",
    "        \"La gata '' maulla @ en la noche\",\n",
    "        \"       ToDo va bien    aquí\"\n",
    "    ]\n",
    "    targets = [\n",
    "        \"la gata maulla en la noche\",\n",
    "        \"todo va bien aquí\"\n",
    "    ]\n",
    "    for i in range(len(tests)):\n",
    "        if cleanString(special_chars, tests[i]) != targets[i]:\n",
    "            print(\"Failed at \" + cleanString(special_chars, tests[i]))\n",
    "            return False\n",
    "    return True\n",
    "\n",
    "test()"
   ]
  },
  {
   "cell_type": "markdown",
   "metadata": {},
   "source": [
    "## Clenasing tweets\n",
    "Let's start cleaning the tweets"
   ]
  },
  {
   "cell_type": "code",
   "execution_count": 14,
   "metadata": {},
   "outputs": [
    {
     "name": "stdout",
     "output_type": "stream",
     "text": [
      "@united oh, we are sure it's not planned, but it occurs absolutely consistently, it's usually the only yyj flight that's cancelled flightled daily.\n",
      "history exam studying ugh\n",
      "@unnitallman yeah looks like that only! &quot;busy&quot; is fucking me so yeah.. its my &quot;gf&quot; \n",
      "@mbjthegreat i really dont want at&amp;t phone service..they suck when it comes to having a signal\n",
      "i donâ€™t want either! rt @clayhebert: we might get pilotless planes before driverless cars - http://t.co/y4yoxaqi\n",
      "aw fuck - this night ended badly \n",
      "@kirstiealley my dentist is great but she's expensive...=(\n",
      "i say we just cut out the small talk: at&amp;t's new slogan: f__k you, give us your money. (apologies to bob geldof.)\n",
      "@united your sfo-yyj fight is cancelled flightled several times each week, why even bother?\n",
      "could time-warner cable suck more?  no.\n",
      "@united 1.75 hour delay.  nothing says sorry like a voucher.  missing time with family.  #family #precioustime\n",
      "@blackbarbie027 my entire college. they fucking lost my transcript now i can't attend in the summer to catch up w/ my credits \n",
      "leavin for shauns. fuck grandparents get around slow. text me or tweet me. @ariannagrace321 you stopped textin me \n",
      "@petewentz @petewentz fuck  i wish i was in houston. shawn connery, peirce bronson, timothy dalton, roger moore. and that's all i know\n",
      "@foxnews pelosi should stay in china and never come back.\n",
      "time warner's hd line up is crap.\n",
      "@dommm did comcast fail again??\n",
      "fuck no internet damn time warner!\n",
      "so google has a driver-less car? they can take the steering wheel away from my cold, dead hands before i buy one.\n",
      "asthma fucking blows  can't wait till i finish up asmanex treatments. follow up (and hopefully final) apt w/ pulmonologist is this week.\n",
      "my dell laptop's battery is fucked up! \n",
      "what is this i am hearing about driverless cars coming out? da fuck? are people that lazy, that just seems dangerous as all hell.\n",
      "@jessicarayburn i accidentally stepped on my power strip off button and now my internets are fucked up dammit \n",
      "i've been in the car for 12 hours  no fucking joke we went to santa cruz for 30 mins then had to go. hella ghey.\n",
      "having the old coca-cola guy on the gm board is stupid has heck! #tcot #ala\n",
      "cox or time warner?  cox is cheaper and gets a b on dslreports.  tw is more expensive and gets a c.\n",
      "oh my fucking god my stomach is growling \n",
      "i have to go to booz allen hamilton for a 2hr meeting :(  but then i get to go home :)\n",
      "just got back from church, and i totally hate insects.\n",
      "i'm not high anymore and some stinky guy with a mail order bride is pissing me the fuck off.. \n",
      "@sportsguy33 ummm, having some time warner problems?\n",
      "why is it that someday you look nearly good and the next day you look totally fucked up? today is the next day \n",
      "and i broke a fucking nail. \n",
      "arg. twitter api is making me crazy.\n",
      "shaunwoo hate'n on aig\n",
      "can we just go ahead and blow north korea off the map already?\n",
      "took the graduate field exam for computer science today.  nothing makes you feel like more of an idiot than lambda calculus.\n",
      "i hate revision, it's so boring! i am totally unprepared for my exam tomorrow :( things are not looking good...\n",
      "well imessage doesn't work thanks @apple\n",
      "recovering from surgery..wishing @julesrenner was here :(\n",
      "@united switched to fly united from delta for the past two trips and was very disappointed. now my ua4646 on 2/23 is delayed by 3 hours!!\n",
      "@karrisfoxy if you're being harassed by calls about your car warranty, changing your number won't fix that. they call every number. #d-bags\n",
      "fucken a man lol. tiring night at work. hope to get this job! for got bout the hills  dang nabbit lol.. \n",
      "give a man a fish, u feed him for the day. teach him to fish, u feed him for life. buy him gm, and u f**k him over for good.\n",
      "ugh i need to renew the fucking restraining order.  help.\n",
      "it's a bank holiday, yet i'm only out of work now. exam season sucks:(\n",
      "@charlesjmeyer @apple @appy_geek hasn't apple been doing this for decades? this is why i don't support apple. #apple #deletegame\n",
      "bonjour san francisco. my back hurts from last night..\n",
      "google car just drove by.... hopefully they got me flipping them off!\n",
      "@pittstock $gm good riddance.  sad though.\n",
      "rt @sportsguy33 the upside to time warner: unhelpful phone operators   superslow on-site service. crap, that's not an upside.\n",
      "they're on about driverless automated cars, why waste the money? get a fucking taxi\n",
      "@d3signerd â€¦being systematically run over by driverless cars.\n",
      "i still love my kindle2 but reading the new york times on it does not feel natural. i miss the bloomingdale ads.\n",
      "it's unfortunate that after the stimulus plan was put in place twice to help gm on the back of the american people has led to the inevitable\n",
      "driverless cars are terrible. how can anyone be a fan of them. i mean, c'mon!!!\n",
      "last day of work before i go on holiday... argh... got fuck loads to do \n",
      "there is an acceptable level of risk with all new technology, but the reality that people will die in autonomous car is hard to accept #sxsw\n",
      "@united it won't help...been there done that.\n",
      "@united my ua3426 on 2/19 was also delayed by 2 hours, stretching my trip way past the midnight, extremely exhausting!\n",
      "i hate the effing dentist.\n",
      "pissed about at&amp;t's mid-contract upgrade price for the iphone (it's $200 more) i'm not going to pay $499 for something i thought was $299\n",
      "if you think people dislike google buses and google glasses, just wait till a google self driving car causes children to die in a crash.\n",
      "curses the twitter api limit\n",
      "i'm itchy and miserable!\n",
      "too fucking early. super crabby. want to be back in bed with my pup. wish i was staying home tonight and being in my own bed. \n",
      "back from seeing 'star trek' and 'night at the museum.' 'star trek' was amazing, but 'night at the museum' was; eh.\n",
      "@ambcharlesfield lol. ah my skin is itchy :( damn lawnmowing.\n",
      "just got barraged by a horde of insects hungry for my kitchen light. so scary.\n",
      "dear apple this is the worse service ever @apple http://t.co/jhps71df0w\n",
      "math review. im going to fail the exam.\n",
      "rt @liltanlines i know i'm special... hahaha but the fucking special olympics won't let me compete in their events. \n",
      "@united now arriving a day and a half late flightr than supposed to. lesson of the day, don't believe verbal or written confirmations from united\n",
      "fucking myspace!! let me check my new comments nowwwwwww \n",
      "i reaaly miss john mayer's twitters.  fuck rude people. remove him if you don't like his tweets, bitchfucks.\n",
      "tell me again why we are giving more $$ to gm?? we should use that $ for all the programs that support the unemployed.\n",
      "arhh, it's weka bug. = =\" and i spent almost two hours to find that out. crappy me\n",
      "@wsj the idiot who would ride in a driverless car! #tolazytodrive #hireadriver\n",
      "if freaking the fuck out! way to many assignments due!!! \n",
      "f*** up big, or go home - aig\n",
      "@mischaarmada so today some girl walked into the bean and i totally thought it was you and i yelled &quot;miiiiisssccchhhhhhh&quot; fucking loud \n",
      "ugh. the amount of times these stupid insects have bitten me. grr..\n",
      "i think my memory card is fucked  at least its not the one for my dslr i guess\n",
      "@defsounds wtf is the point of deleting tweets if they can still be found in summize and searches? twitter, please fix that. thanks and bye\n",
      "i just wrote and entire story, and it didn't save.   motherfucker.  \n",
      "driverless cars seem way overhyped given the infrastructure challenges, pilotless planes seem much more doable and needed.\n",
      "google's self-driving car still has many flaws http://t.co/qgqe2joymd via @sharethis @google #autonomous  #robots\n",
      "time warner road runner customer support here absolutely blows. i hate not having other high-speed net options. i'm ready to go nuclear.\n",
      "@barrier_trio i like to piss ppl off by comparing things like google car to robber barons throwing silver dollars from their office windows\n",
      "hate safeway select green tea icecream! bought two cartons, what a waste of money.  &gt;_&lt;\n",
      "time warner really picks the worst time to not work. all i want to do is get to mtv.com so i can watch the hills. wtfffff.\n",
      "@united better just keep connection from ord to fwa that boards in ten minutes open until i get off the plane that just landed an hour late flight\n",
      "are you burning more cash $$$ than chrysler and gm? stop the financial tsunami. where \"bailout\" means taking a handout!\n",
      "safari 4 is fast :) even on my shitty at&amp;t tethering.\n",
      "man im too fucked to be in work \n",
      "life?s a bitch? and so is dick cheney. #p2 #bipart #tlot #tcot #hhrs #gop #dnc http://is.gd/djyq\n",
      "yahoo answers can be a butt sometimes\n",
      "north korea, please cease this douchebaggery. china doesn't even like you anymore. http://bit.ly/nehsl\n",
      "8:28 am - the driverless cars take us to the wrong spot. @dustyeyessem says, \"damn robots.\" i agree. we board a bus. #delucchidoesgoogle\n",
      "my dentist was wrong... wrong\n",
      "should nott be up this early  fuckk me\n",
      "going to the dentist later.:|\n",
      "driverless cars!?!?!?!?, i don't think so!! what about all of the rest of crazed &amp; drunk drivers on the road in our society today !??ðÿ™âœœï¸ðÿœžðÿ’«ðÿ‡ºðÿ‡¸\n",
      "saw night at the museum out of sheer desperation. who is funding these movies?\n",
      "#durham driverless car causes crash in nc, two people injured - http://t.co/oz48xg2bx4 http://t.co/sgdldh1pjf #dur @durhamnc_\n",
      "fuck. lidelle is my favorite \n",
      "ahh...got rid of stupid time warner today &amp; now taking a nap while the roomies cook for me. pretty good end for a monday :)\n",
      "@legalgeekery yeahhhhhhhhh, i wouldn't really have lived in east palo alto if i could have avoided it.  i guess it's only for the summer.\n",
      "time warner cable phone reps r dumber than nails!!!!! ugh! cable was working 10 mins ago now its not wtf!\n",
      "it is a shame about gm. what if they are forced to make only cars the white house thinks will sell? what do you think?\n",
      "shit's hitting the fan in iran...craziness indeed #iranelection\n",
      "so fucking sick. no worries, chug on m'son! you have things to do and places to be... \n",
      "talk is cheap: bing that, i?ll stick with google. http://bit.ly/xc3c8\n"
     ]
    }
   ],
   "source": [
    "special_chars = \",.@?!¬-\\''=()\\\"&:#*â€™/\"\n",
    "for tweet in nt[\"tweet\"]:\n",
    "    print(cleanString(special_chars, tweet))"
   ]
  },
  {
   "cell_type": "code",
   "execution_count": 55,
   "metadata": {},
   "outputs": [
    {
     "name": "stdout",
     "output_type": "stream",
     "text": [
      "loves twitter\n",
      "super cool google the next stop on the road to a selfdriving car httptcox4rem8zeky httptcoupduuattb6\n",
      "ok so lots of buzz from io2009 but how lucky are they a free g2 httpisgdhyzl\n",
      "loves chocolate milk and that is gf yeah\n",
      "bittenbybooks oh good im glad youre feeling better ive been really good itll be a crazy week though in a good way\n",
      "sophieveronica today was rad we made it into the finals for cross country yay love you sophie lt;3 l ps everythins cool with my mates\n",
      "now im happy\n",
      "night at the museum wolverine and junk food perfect monday\n",
      "back when i worked for nike we had one fav word just do it\n",
      "œfacespics googles new selfdriving car httptcoqymxdtw1d9 i watched something on this earlier holy crap\n",
      "i love my kindle2 no more stacks of books to trip over on the way to the loo\n",
      "city all day soo happy to be home school in the morning\n",
      "lhawthorn what a coincidence i was just stalking your twitter feed and the gsoc news ; im doing great thanks how about you\n",
      "warp i love that aussie cattle dog story\n",
      "knightowl89 sounds good i wish i could have done it but im determined to find them in the park they better be in there\n",
      "united can i just go ahead and live in your premium cabins im in heaven now en route to lhr\n",
      "using linux and loving it so much nicer than windows looking forward to using the wysiwyg latex editor\n",
      "watching lebron highlights damn that niggas good\n",
      "united thanks for the reupgrade to 1st class it may be a 45 min flight but it is appreciated\n",
      "reading my kindle2 love it lee childs is good read\n",
      "video of the first user of google s self driving car lost 95% of his vision well past legally blind httptcowk6qeqif amazing\n",
      "jonathanrknight glad to hear that you had such a great night you rock amp; i hope tonight is just the 1st of many feel good shows for you\n",
      "united sorry to hear outsourcing plan boise is best staffcust service in the country boise\n",
      "saw the new night at the museum and i loved it next is to go see up in 3d\n",
      "lyx is cool\n",
      "i mean im down with notre dame if i have to its a good school id be closer to dan id enjoy it\n",
      "fastcodesign i am so excited for this come on selfdriving cars\n",
      "obama more popular than us among arabs survey president barack obamas popularity in leading arab countries httptinyurlcomprlvqu\n",
      "selfdriving car test steve mahan this is amazing google httptcodtyd3pf9zg\n",
      "lebron and zydrunas are such an awesome duo\n",
      "total believe it mashable googles driverless car is now safer than the average driver httptcogf125da3\n",
      "rt mashable five things wolfram alpha does better and vastly different than google httpbitly6nsnr\n",
      "cwong08 i have a kindle2 amp; sony prs500 like it physical device feels good font is nice pg turns are snappy enuf ui a little klunky\n",
      "jenniferdaniel as someone who never learned how to drive i welcome our google car overlords\n",
      "united just did thanks for checking\n",
      "jktweet hi just saw your stanford talk and really liked your advice just saying hi from singapore yes the videos do get around\n",
      "asherroth world cup 2010 access damn thats a good look\n",
      "united \n",
      "i will admit youve been rather good to me over the years\n",
      "youve still got me hooked\n",
      "for now\n",
      "peace\n",
      "dorkas426 i totally took the change of scenery it was great\n",
      "united thanks for the timely service amp; great staff getting my wife and me to and from cancun this past week for our honeymoon\n",
      "united i appreciate the follow up\n",
      "united flyana_official pleasantly surprised to find ana has made major upgrades on their transpacific route in flights planes and service\n",
      "vkerkez dood i got a free google android phone at the io conference the g2\n",
      "just saw sunshine cleaning i love amy adams\n",
      "tweeterdiva i only have one for now id love to have a herd someday\n",
      "star trek was as good as everyone said\n",
      "guess ill be retiring my g1 and start using my developer g2 woot googleio\n",
      "highly recommend httptinyurlcomhowdavidbeatsgoliath by malcolm gladwell\n",
      "i love dwight howards vitamin water commercial now i wish he was with nike and not adidas lol\n",
      "i like this guy barack obama shows his funny side gt;gt; httptriml0gy\n",
      "united holy high speed internet batman speeds at united club at iad are insanely fast thanks\n",
      "united i was protected on that flight by gate agent kerry at las she also did an excellent job getting me to my destination today thanks\n",
      "oh oh found some clothes and i love em xd\n",
      "love when google does futuristic stuff like this also giving the self driving car a face is pretty genius httptcobgj9i6rvn0\n",
      "united i am blown away by stellar custserv thank you lt;3 httptcojorescfb4x\n",
      "im listening to pyt by danny gokey lt;3 lt;3 lt;3 aww hes so amazing i lt;3 him so much\n",
      "united be chicagos hometown airline care about your neighbors savethediagonals flyquiet ordnoise\n",
      "universewx ive heard that here in florida selfdriving cars are streetlegal i want one\n",
      "united thank you love united have 4 flights today\n",
      "phyreman9 google is always a good place to look shouldve mentioned i worked on the mustang w my dad kimblet\n",
      "just applied at safeway yeeeee\n",
      "mmcallen sigh wish i could have a gmic meeting here in san diego spoke to johanna already she said it was great\n",
      "watching night at the museum giggling\n",
      "selfdriving cars sounds good to me headline usatoday california okays driverless cars httptcov9jfix1z\n",
      "craigsutton thats a longtime good for you\n",
      "night at the museum 2 pretty furkin good\n",
      "ericbttn yeah right just hang out with the cast and accidentally have alex fall in love with you too right\n",
      "reading bill clinton fail obama win httptinyurlcompcyxj7\n",
      "united its amazing really\n",
      "just had a real good moment i missssssssss him so much\n",
      "aiduong oh goodness i didnt know you could message friends on here hello ai\n",
      "god sho love him some me feeling really really blessed tonight++++++\n",
      "has discovered that she loves easter crafts eggs hot cross buns feel like watching the prince of egypt to aid my easter meditations\n",
      "excited about seeing bobby flay and guy fieri tomorrow at the great american food amp; music fest\n",
      "i couldnt be more excited about selfdriving cars httptcohpxkh7hx\n",
      "learning about lambda calculus\n",
      "uploading the greatest cartoon from the newspaper ever regarding twitter\n",
      "riding around a google selfdriving car œalways_believin mazy where do u see yourself in 10 years askmazy\n",
      "gerry_butler if its something you will enjoy and will make you happy why not do it\n",
      "jquery is my new best friend\n",
      "obamas got jokes haha just got to watch a bit of his after dinner speech from last night im in love with mr president ;\n",
      "is lovin his nike already and thats only from running on the spot in his bedroom\n",
      "ahh yes lol ima tell my hubby to go get me sum mcdonalds ]\n",
      "lou911 lebron is murdering shit\n",
      "google selfdriving car on city streets httptco6f8qfwzbqg i cannot wait until this technology is available to consumers\n",
      "i just saw the google car eekkk my life is complete\n",
      "i would like to go for a drive with these guys driverless cars will be the safest cars ever cas13 httptcoq24okdlp\n",
      "mrskutcher its only 1am hereim just on my way to bed lol weird hope you have a good morning\n",
      "cant wait for driverless cars to come out this is the first time im excited about motor vehicles in my entire life\n",
      "vonster good point 2 draw 2 dont nice quote though i like that\n",
      "the nike training club beta iphone app looks very interesting\n",
      "judd apatow creates fake sitcom on nbccom to market his new movie viral marketing at its best httpisgdk0yk\n",
      "mayhemstudios yes using it for 3 week now pretty happy with the result\n",
      "tomorrow is my friday +its a late day for me thank goodness\n",
      "hassox no but that sounds like a good idea steve\n",
      "united flew ord to miami and back and had great crew service on both legs thanks\n",
      "beycah good for you becca have a good sleep\n",
      "i want a driverless car so bad\n",
      "nick_carter you are my idol i love you you should reply to me lt;3\n",
      "evelynbyrne have you tried nike v addictive\n",
      "cookcj i love reading your tweets but it would be nice to see your lovely mug when i read them wheres your picture\n",
      "united thanks ^kp please also mention the quiche breakfast and tandoori chicken dinner entrees and accompaniments are truly first class\n",
      "awesome viral marketing for funny people httpwwwnbccomyoteach\n",
      "my wrist still hurts i have to get it looked at i hate the drdentistscary places time to watch eagle eye if you want to join txt\n",
      "the ever amazing psyop and goodby silverstein amp; partners for hp httpbitlyg2ru8 have to go play with after effects now\n",
      "absolutely hilarious from mashable httpbitlybccwt\n",
      "lakers played great cannot wait for thursday night lakers vs\n",
      "and so a down day on the markethappy my stocks held up\n",
      "jonathanrknight hi jon great to hear from you see you on the cruise i cannot wait hope all is well on the knight bus you are loved\n",
      "my dad was in ny for a day we ate at mesa grill last night and met bobby flay so much fun except i completely lost my voice today\n",
      "criticalpath such an awesome idea the continual learning program with a kindle2 httpbitly1zlff\n",
      "ctesdahl well you can always digg or stumbleboth have aided me greatly in wasting countless hours of my life\n",
      "stopped to have lunch at mcdonalds chicken nuggetssss yummmmmy\n",
      "super investors a great weekend read here from warren buffet oldie but a goodie httptinyurlcomoqxgga\n"
     ]
    }
   ],
   "source": [
    "for tweet in pt[\"tweet\"]:\n",
    "    print(cleanString(special_chars, tweet))"
   ]
  },
  {
   "cell_type": "code",
   "execution_count": 56,
   "metadata": {},
   "outputs": [
    {
     "name": "stdout",
     "output_type": "stream",
     "text": [
      "got a new pair of nike shoes pics up later\n",
      "hey any chance you have an update on flight 99 hartford to dc\n",
      "learning jquery 13 book review httpcfbloggersorgc30629\n",
      "apples not even barely doing anything a couple features here and there google has got self driving car google glass google tango project ara\n",
      "deflategate ballghazi ballgate all tom brady and belichick have to do is say they are long time democrats and base …\n",
      "rt look available amazon kindle2 amp; kindle dx get it here httpshortto87ub the top electronic book reader period free 2 day ship\n",
      "time warner cable pulls the plug on the girlfriend experience wwwtinyurlcomm595fk\n",
      "we already have self driving cars on the road theyre just waiting for the ok by the government for the software to be activated\n",
      "ruby_gem my primary debit card is visa electron\n",
      "new post on my blog got new cases slc citycreek apple applestore red pr s4xrrxr8uq\n",
      "when i click that link it wants my flight info i havent booked a flight yet i read you waive fees for military it this true\n",
      "i sent the message let me know asap\n",
      "jakes going to safeway\n",
      "send us your gmchevy photos httptinyurlcomluzkpq\n",
      "taking katie to see night at the museum she picked it\n",
      "nike sb blazer high acg custom brad douglas httptimesurlat45a448\n",
      "saved money by opting for grocery store trip and stocking food in hotel room fridge vs eating out every night while out of town\n",
      "oh look its acutally one of the google self driving cars on the freeway 880 north exljcptl\n",
      "flights 1970 1366 and 1552 will fly over after 1 am on your way into mind taking ocean approach so we can sleep\n",
      "saw the car just outside of barnwell alberta in taber ðÿ˜ half hour east of lethbridge\n",
      "ask programming latex or indesign submitted by calcio1 [link] [1 comment] httptinyurlcommyfmf7\n",
      "imagine a world where s self driving car merges with and itscoming codecon\n",
      "œ di caro uses the last question to ask about driverless cars mocotranspo wild card question\n",
      "playing with java and the twitter api\n",
      "kirstiealley pet dentist httpwwwfunnyvillecomfvpicturesdogdenturesshtml\n",
      "httpxigs04fo gm ceo china will continue to be key partner\n",
      "google wave developer sandbox account request httpbitly2nylc\n",
      "anna_debenham what was the php jquery hack\n",
      "didnt expect to be on the radio this morning discussing the coachella2015 lineup thx kwss\n",
      "driverless golf carts cgrouetwwc\n",
      "testing twitter api\n",
      "safeway supermarketing via mobile coupons httpbitlyonh7w\n",
      "new blog post nike trainer 1 httpbitly394bp\n",
      "new blog post nike sb dunk low premium white gum httptrimlott\n",
      "still hungry after eating\n",
      "maybe put a few of those dance steps to use after todays belichick conference deflategate patriots patriotsnation\n",
      "yung adopted child namin has just been bitten by a wasp i gave him claritin\n",
      "œ google plans to build selfdriving car with no steering wheel arzekjjr4q\n",
      "wonder if there’ll b investigation 2 determine how over inflated heads are after this …\n",
      "getting ready to go watch night at the museum 2 dum dum you give me gum gum\n",
      "my balls are perfect deflategate tombrady inflatethis\n",
      "myfoxdc barrie students back from trip to china a silver spring high schools class trip to china has en httptinyurlcomnlhqba\n",
      "wearabledevices to consumers youre putting me on 2essgn5wsv ibdnews via aapl nke grmn amba invn\n",
      "is eating home made yema\n",
      "your normal weight and how to get there normal eating blog httpbitlyzet8o\n",
      "nike air yeezy khakipink colorway release httpsharesbjfn\n",
      "found a safeway picking up a few staples\n",
      "only in mountain view would you see a prius with a large roof rack amp; think look a selfdriving car\n",
      "hey me and my family have questions on a trip to disney world that we are doing in april please follow me so i could dm you guys\n",
      "adobe cs4 commercial by goodby silverstein httpbitly1aikhf\n",
      "googles vision delivering packages with driverless cars humanoid robots can happen amazon drone bs no lol t6nlr70rkq\n",
      "how to track iran with social media httpbitly2boqu\n",
      "i told that i think i was getting sick and he goes ill give you some of that claritin d eww\n",
      "aapl was a fantastic investmentbut what will be its future how will aapl beat aapl\n",
      "s ceo battles to appease passengers and wall street waterbury republican american imvmpnqxai\n",
      "eating cake\n",
      "going to see star trek soon with my dad\n",
      "giving weka an app engine interface using the bird strike data for the tests the logo is a given\n",
      "œ a selfdriving car heres one you can not drive today sihocde5me\n",
      "be honestonly real surprise about deflategate is that arod isnt somehow involved\n",
      "baseballamericacom blog baseball america prospects blog blog httpbitlyett8a\n",
      "its got to be nice to be ted wells theres steady work when youre the nfls go to guy for investigations\n",
      "\n",
      "deflategate\n",
      "erickoston that looks an awful lot like one of nikes private jetsim just sayin\n",
      "œ i thought it was a selfdriving carlt; must be a manual override by a type a\n",
      "watching a programme about the life of hitler its only enhancing my geekiness of history\n",
      "warren buffet on the economy httppingfmlau0p\n",
      "lounging around eating taco bell and watching ncis before work tonight need help staying awake\n",
      "and i just saw the google car vkougcng\n",
      "sony coupon code expires soon httpwwwcoupondorkcomr1796\n",
      "nike owns nba playoffs ads w lebron kobe carmelo httpowly7uiy adidas billups howard marketing branding\n",
      "with the boyfriend eating a quesadilla\n"
     ]
    }
   ],
   "source": [
    "for tweet in neutralt[\"tweet\"]:\n",
    "    print(cleanString(special_chars, tweet))"
   ]
  },
  {
   "cell_type": "code",
   "execution_count": null,
   "metadata": {},
   "outputs": [],
   "source": []
  }
 ],
 "metadata": {
  "kernelspec": {
   "display_name": "Python 3",
   "language": "python",
   "name": "python3"
  },
  "language_info": {
   "codemirror_mode": {
    "name": "ipython",
    "version": 3
   },
   "file_extension": ".py",
   "mimetype": "text/x-python",
   "name": "python",
   "nbconvert_exporter": "python",
   "pygments_lexer": "ipython3",
   "version": "3.7.3"
  }
 },
 "nbformat": 4,
 "nbformat_minor": 4
}
